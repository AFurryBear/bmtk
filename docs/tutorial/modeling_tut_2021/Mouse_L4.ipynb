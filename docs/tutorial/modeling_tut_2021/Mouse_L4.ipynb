{
 "cells": [
  {
   "cell_type": "markdown",
   "metadata": {},
   "source": [
    "# Tools for Modeling: The Brain Modeling Toolkit and SONATA data format\n",
    "\n",
    "#### January 28, 2021\n",
    "\n",
    "This tutorial will show how to build and simulate a toy model of the mouse V1 cortical area network using the Brain Modeling Toolkit (BMTK). Including how to modify and simulate larger more realistic visual cortical models released by the Allen Institute.\n",
    "\n",
    "The network uses biophysically realistic multi-comparment cell models, but small enough to run on most linux/windows/osx computers and laptops. \n",
    "\n",
    "For more information about cortical modeling and simulation at the Allen Institute:\n",
    "https://portal.brain-map.org/explore/models\n",
    "\n",
    "For more information and tutorials on using the BMTK:\n",
    "https://alleninstitute.github.io/bmtk\n",
    "\n"
   ]
  },
  {
   "cell_type": "markdown",
   "metadata": {},
   "source": [
    "## Installing BMTK\n",
    "\\[https://alleninstitute.github.io/bmtk/installation.html\\]\n",
    "\n",
    "BMTK will require python 2.7 or 3.6+. You can clone the latest developement branch from https://github.com/AllenInstitute/bmtk.git. Alternatively one can install using python's pip utility:\n",
    "\n",
    "```bash\n",
    " $ pip install bmtk\n",
    "```\n",
    "\n",
    "Or if you're using a CONDA environment:\n",
    "\n",
    "```bash\n",
    " $ conda install -c kaeldai bmtk\n",
    "```\n",
    "\n",
    "For simulation [NEURON](https://www.neuron.yale.edu/neuron/) will also be required to be installed (including python bindings). To quickly install NEURON on your machine:\n",
    "```bash\n",
    " $ pip install neuron\n",
    "```\n",
    "\n",
    "or \n",
    "```\n",
    " $ conda install -c conda-forge neuron\n",
    "```\n",
    "\n",
    "\n",
    "#### The BMTK Docker Image\n",
    "\n",
    "We have included a docker image that will come with BMTK, neuron, and a ready-to-use jupyter notebook server with this tutorial and it's content already installed. To run the docker image\n",
    "\n",
    "```bash\n",
    " ## Linux or OSX\n",
    " $ docker run -v $(pwd):/home/shared/workspace -p 8888:8888 alleninstitute/bmtk jupyter\n",
    " \n",
    " ## Windows PowerShell\n",
    " $ docker run -v ${PWD}:/home/shared/workspace -p 8888:8888 alleninstitute/bmtk jupyter\n",
    "```\n",
    "\n",
    "Then open a web browser to __127.0.0.1:8888/__. This current tutorial can be found under the folder _tutorials/modeling_tut_2021_/Mouse_L4.ipynb."
   ]
  },
  {
   "cell_type": "markdown",
   "metadata": {},
   "source": [
    "## Building the Network"
   ]
  },
  {
   "cell_type": "markdown",
   "metadata": {},
   "source": [
    "#### 1. Building the cells\n",
    "\n",
    "We want to create a simple 300 cell network modeling using cortical models from the mouse primary visual (V1) area. The first step is figuring out different cell types and parameters we want to use in our network. When we know that we can begin building our network model first by initializing the network using _bmtk.builder.networks.NetworkBuilder_ plus calls to _add_nodes()_ method"
   ]
  },
  {
   "cell_type": "code",
   "execution_count": 1,
   "metadata": {},
   "outputs": [],
   "source": [
    "import numpy as np\n",
    "from bmtk.builder.networks import NetworkBuilder\n",
    "\n",
    "# intialize a new population of cells called \"V1\"\n",
    "v1 = NetworkBuilder('V1')\n",
    "\n",
    "# Add a population of 80 \"Scnn1a\" type nodes\n",
    "v1.add_nodes(\n",
    "    N=80,   \n",
    "    \n",
    "    # Reserved SONATA keywords used during simulation\n",
    "    model_type='biophysical',\n",
    "    model_template='ctdb:Biophys1.hoc',\n",
    "    dynamics_params='472363762_fit.json',\n",
    "    morphology='Scnn1a_473845048_m.swc',\n",
    "    \n",
    "    # The x, y, z locations of each cell in a column\n",
    "    x=np.random.normal(0.0, 20.0, size=80),\n",
    "    y=np.random.uniform(400.0, 500.0, size=80),\n",
    "    z=np.random.normal(0.0, 20.0, size=80),\n",
    "    \n",
    "    # Euler rotations of the cells\n",
    "    rotation_angle_xaxis=np.random.uniform(0.0, 2*np.pi, size=80),\n",
    "    rotation_angle_yaxis=np.random.uniform(0.0, 2*np.pi, size=80),\n",
    "    rotation_angle_zaxis=-3.646878266,\n",
    "    \n",
    "    # Optional parameters\n",
    "    tuning_angle=np.linspace(start=0.0, stop=360.0, num=80, endpoint=False),\n",
    "    pop_name='Scnn1a',\n",
    "    location='L4',\n",
    "    ei='e',\n",
    ")"
   ]
  },
  {
   "cell_type": "markdown",
   "metadata": {},
   "source": [
    "The above call to add_nodes() will and __N=80__ different individual cells to our network. \n",
    "\n",
    "The attributes __model_type__, __model_template__, __dynamics_params__, and __morphology__ are SONATA reserved keywords that will instruct BMTK (or other SONATA compliant tools) how to build cell models during the simulation. In this model we are using biophysically realistic models, with dynamical parameters (.json) and morphology (.swc) that we can download from the [Allen Cell Types Database](https://celltypes.brain-map.org/data). We have already downloaded the required json and swc files and have saved them under _components/biophysical_neuron_templates_ and \n",
    "_components/morphologies/_, respectively.\n",
    "\n",
    "Attributes __x__, __y__, __z__ are used as the euclidian locations of the cells, while the __rotation_angle__ parameters are used to orientat to rotations of cells. Note that for the x and y rotations we are passing in an array of size N, but the z rotation is defined by a scalar. SONATA and the BMTK Network Builder allows us to differentiate between attributes that are unique to each cell versus shared attributes. Each of the 80 cells will have unique x and y rotations, but share the same pre-calculated z rotatation\n",
    "\n",
    "The final remaining attributes are not reserved SONATA keywords, but rather optional attributes that will be helpful during analysis. The __tuning_angle__ property (how well a cell is tuned for different stimulus grating) is an attribute shown is excitatory cells of the visual cortex and thus wouldn't be applicable to other models or even non-exciatory cells-types\n",
    "\n",
    "We now can ad other cell-types to our model, including inhibitory PV (parvalbumin) cells, with future calls to __add_nodes__:"
   ]
  },
  {
   "cell_type": "code",
   "execution_count": 2,
   "metadata": {},
   "outputs": [],
   "source": [
    "v1.add_nodes(\n",
    "    # Rorb excitatory cells\n",
    "    N=80, pop_name='Rorb', location='L4', ei='e',\n",
    "    model_type='biophysical',\n",
    "    model_template='ctdb:Biophys1.hoc',\n",
    "    dynamics_params='473863510_fit.json',\n",
    "    morphology='Rorb_325404214_m.swc',\n",
    "    x=np.random.normal(0.0, 20.0, size=80),\n",
    "    y=np.random.uniform(400.0, 500.0, size=80),\n",
    "    z=np.random.normal(0.0, 20.0, size=80),   \n",
    "    rotation_angle_xaxis=np.random.uniform(0.0, 2*np.pi, size=80),\n",
    "    rotation_angle_yaxis=np.random.uniform(0.0, 2*np.pi, size=80),\n",
    "    rotation_angle_zaxis=-4.159763785,\n",
    "    tuning_angle=np.linspace(start=0.0, stop=360.0, num=80, endpoint=False),\n",
    ")\n",
    "\n",
    "\n",
    "v1.add_nodes(\n",
    "    # Nr5a1 excitatory cells\n",
    "    N=80, pop_name='Nr5a1', location='L4', ei='e',\n",
    "    model_type='biophysical',\n",
    "    model_template='ctdb:Biophys1.hoc',\n",
    "    dynamics_params='473863035_fit.json',\n",
    "    morphology='Nr5a1_471087815_m.swc',\n",
    "    x=np.random.normal(0.0, 20.0, size=80),\n",
    "    y=np.random.uniform(400.0, 500.0, size=80),\n",
    "    z=np.random.normal(0.0, 20.0, size=80),   \n",
    "    rotation_angle_xaxis=np.random.uniform(0.0, 2*np.pi, size=80),\n",
    "    rotation_angle_yaxis=np.random.uniform(0.0, 2*np.pi, size=80),\n",
    "    rotation_angle_zaxis=-4.159763785,\n",
    "    tuning_angle=np.linspace(start=0.0, stop=360.0, num=80, endpoint=False),\n",
    ")\n",
    "\n",
    "v1.add_nodes(\n",
    "    # Parvalbuim inhibitory cells, note these don't have a tuning angle and ei=i\n",
    "    N=60, pop_name='PV1', location='L4', ei='i',\n",
    "    model_type='biophysical',\n",
    "    model_template='ctdb:Biophys1.hoc',\n",
    "    dynamics_params='472912177_fit.json',\n",
    "    morphology='Pvalb_470522102_m.swc',\n",
    "    x=np.random.normal(0.0, 20.0, size=60),\n",
    "    y=np.random.uniform(400.0, 500.0, size=60),\n",
    "    z=np.random.normal(0.0, 20.0, size=60),   \n",
    "    rotation_angle_xaxis=np.random.uniform(0.0, 2*np.pi, size=60),\n",
    "    rotation_angle_yaxis=np.random.uniform(0.0, 2*np.pi, size=60),\n",
    "    rotation_angle_zaxis=-2.539551891\n",
    ")\n"
   ]
  },
  {
   "cell_type": "markdown",
   "metadata": {},
   "source": [
    "#### 2. Creating the connections \n",
    "\n",
    "Now that we have our cells/nodes, we can go ahead and create the synapse/connectivity matrix using the __add_edges__ method. We will want to call this method multiple times to add different connection types with different properties and rules. For each connection type we must select what subpopulation of cells to use for the source (pre-synaptic) and target (post-synaptic) cells. We can select our cells using any combination of attributes"
   ]
  },
  {
   "cell_type": "code",
   "execution_count": 3,
   "metadata": {},
   "outputs": [
    {
     "data": {
      "text/plain": [
       "<bmtk.builder.connection_map.ConnectionMap at 0x7f4d8d684908>"
      ]
     },
     "execution_count": 3,
     "metadata": {},
     "output_type": "execute_result"
    }
   ],
   "source": [
    "v1.add_edges(\n",
    "    ## Inh --> Exc type connections.\n",
    "    source={'ei': 'i'}, \n",
    "    target={'ei': 'e'},\n",
    "    \n",
    "    # Each source (i) cell will connect once to every target (e) cell\n",
    "    connection_rule=1,\n",
    "    \n",
    "    # SONATA keywords \n",
    "    syn_weight=0.0002,\n",
    "    delay=2.0,\n",
    "    dynamics_params='InhToExc.json',\n",
    "    model_template='exp2syn',\n",
    "    \n",
    "    # Special BMTK attributes specifying where to set target synape location\n",
    "    distance_range=[0.0, 1e+20],\n",
    "    target_sections=['somatic', 'basal']\n",
    ")\n",
    "\n",
    "\n",
    "v1.add_edges(\n",
    "    ## Exc --> Inh type connections.\n",
    "    source={'ei': 'e'}, \n",
    "    target={'ei': 'i'},\n",
    "    \n",
    "    connection_rule=1,\n",
    "              \n",
    "    syn_weight=0.00018,\n",
    "    delay=2.0,\n",
    "    dynamics_params='ExcToInh.json',\n",
    "    model_template='exp2syn',\n",
    "    distance_range=[0.0, 50.0],\n",
    "    target_sections=['somatic', 'basal', 'apical'],\n",
    ")\n",
    "\n"
   ]
  },
  {
   "cell_type": "markdown",
   "metadata": {},
   "source": [
    "The __connection_rule__ parameter is used to determine the number of connections/synapses between each source and target cell. In the simplist case like above we can pass in a scalar value. You may also pass in a matrix of shape T x S (T=# or targets, S=# of sources), or use in a custom function.\n",
    "\n",
    "With a user defined function it will pass in a source and target, which can be used as dictionaries to access cell parameters, and expects to return the number of connections\n",
    "```python\n",
    "def <my_connection_rule>(source, target, **opt_params):\n",
    "    return N\n",
    "```\n",
    "\n",
    "For example for Inh --> Inh connection we want there to be no connections if the cells have the same id, otherwise randomly select the number of synapses"
   ]
  },
  {
   "cell_type": "code",
   "execution_count": 4,
   "metadata": {},
   "outputs": [
    {
     "data": {
      "text/plain": [
       "<bmtk.builder.connection_map.ConnectionMap at 0x7f4d920394a8>"
      ]
     },
     "execution_count": 4,
     "metadata": {},
     "output_type": "execute_result"
    }
   ],
   "source": [
    "def ignore_autopases(source, target):\n",
    "    # No synapses if source == target, otherwise randomize\n",
    "    if source['node_id'] == target['node_id']:\n",
    "        return 0\n",
    "    else:\n",
    "        return np.random.randint(0, 6)\n",
    "\n",
    "v1.add_edges(\n",
    "    ## Inh --> Inh type connections.\n",
    "    source={'ei': 'i'}, \n",
    "    target={'ei': 'i'},\n",
    "    \n",
    "    connection_rule=ignore_autopases,\n",
    "              \n",
    "    syn_weight=0.00015,\n",
    "    delay=2.0,\n",
    "    dynamics_params='InhToInh.json',\n",
    "    model_template='exp2syn',\n",
    "    distance_range=[0.0, 1.0e+20],\n",
    "    target_sections=['somatic', 'basal']\n",
    ")\n"
   ]
  },
  {
   "cell_type": "markdown",
   "metadata": {},
   "source": [
    "For Exc --> Exc we want to test an theory that cells with closer __tuning_angle__ are more likely to be connected with each other:"
   ]
  },
  {
   "cell_type": "code",
   "execution_count": 5,
   "metadata": {},
   "outputs": [
    {
     "data": {
      "text/plain": [
       "<bmtk.builder.connection_map.ConnectionMap at 0x7f4d920624e0>"
      ]
     },
     "execution_count": 5,
     "metadata": {},
     "output_type": "execute_result"
    }
   ],
   "source": [
    "def tunning_angle(source, target, max_syns):\n",
    "    # ignore autoapses\n",
    "    if source['node_id'] == target['node_id']:\n",
    "        return 0\n",
    "    \n",
    "    # num of synapses is higher the closer the tuning_angles\n",
    "    src_tuning = source['tuning_angle']\n",
    "    trg_tuning = target['tuning_angle']\n",
    "    dist = np.abs((src_tuning - trg_tuning + 180) % 360 - 180)\n",
    "    p_dist = 1.0 - (np.max((dist, 10.0)) / 180.0)\n",
    "    return np.random.binomial(n=max_syns, p=p_dist)\n",
    "    \n",
    "    \n",
    "\n",
    "v1.add_edges(\n",
    "    source={'ei': 'e'}, \n",
    "    target={'ei': 'e'},\n",
    "    \n",
    "    connection_rule=tunning_angle,\n",
    "    connection_params={'max_syns': 9}, # pass in options to tuning_angle function\n",
    "    \n",
    "    syn_weight=6.4e-05,\n",
    "    delay=2.0,\n",
    "    weight_function='weighted_distance',\n",
    "    distance_range=[30.0, 150.0],\n",
    "    target_sections=['basal', 'apical'],\n",
    "    dynamics_params='ExcToExc.json',\n",
    "    model_template='exp2syn'\n",
    ")"
   ]
  },
  {
   "cell_type": "markdown",
   "metadata": {},
   "source": [
    "Other connection parameters, particularly __syn_weight__ and __delay__, are scalar values and will be the same for each connection. There are multiple ways to set such values so it is customized for each connection. We will show one way of doing so later during the simulation stage."
   ]
  },
  {
   "cell_type": "markdown",
   "metadata": {},
   "source": [
    "#### 3. Building the network\n",
    "\n",
    "Finally we want to build our network and save the network files in SONATA format into the _network/_ directory. BMTK will intuit the names of the files."
   ]
  },
  {
   "cell_type": "code",
   "execution_count": 6,
   "metadata": {},
   "outputs": [],
   "source": [
    "v1.build()\n",
    "v1.save(output_dir='network')"
   ]
  },
  {
   "cell_type": "markdown",
   "metadata": {},
   "source": [
    "#### 4. External Network\n",
    "\n",
    "BMTK and SONATA gives modelers the options to build different parts of a network piecewise. For example we may want to build models of thalamacortical and higher cortical areas that we can connect to our V1 model.\n",
    "\n",
    "Next we create a separate network of the LGN, an flat area of the Thalamus with exciatory cells that project onto the V1. As before we define our cells, connect them to the v1 network, then build and save them as SONATA files in the _network/_ directory."
   ]
  },
  {
   "cell_type": "code",
   "execution_count": 11,
   "metadata": {},
   "outputs": [],
   "source": [
    "lgn = NetworkBuilder('LGN')  # Initialize network called 'lgn'\n",
    "\n",
    "lgn.add_nodes(\n",
    "    N=50, \n",
    "    model_type='virtual',\n",
    "    model_template='lgnmodel:sOFF_TF8',\n",
    "    x=np.random.uniform(0.0, 240.0, 50),\n",
    "    y=np.random.uniform(0.0, 120.0, 50),\n",
    "    spatial_size=1.0,\n",
    "    dynamics_params='sOFF_TF8.json'\n",
    ")\n",
    "\n",
    "lgn.add_nodes(\n",
    "    N=50, \n",
    "    model_type='virtual',\n",
    "    model_template='lgnmodel:sON_TF8',\n",
    "    x=np.random.uniform(0.0, 240.0, 50),\n",
    "    y=np.random.uniform(0.0, 120.0, 50),\n",
    "    spatial_size=1.0,\n",
    "    dynamics_params='sON_TF8.json'\n",
    ")\n",
    "\n",
    "lgn.add_edges(\n",
    "    source=lgn.nodes(), # Select all LGN cells as the sources\n",
    "    target=v1.nodes(ei='e'), # select V1 exc cells are the target\n",
    "              \n",
    "    connection_rule=lambda *_: np.random.randint(1, 5),\n",
    "    syn_weight=4e-03,\n",
    "    delay=2.0,    \n",
    "    distance_range=[0.0, 150.0],\n",
    "    target_sections=['basal', 'apical'],\n",
    "    dynamics_params='LGN_ExcToExc.json',\n",
    "    model_template='exp2syn'\n",
    ")\n",
    "\n",
    "lgn.add_edges(\n",
    "    source=lgn.nodes(), # Select all LGN cells as the sources\n",
    "    target=v1.nodes(ei='i'), # select V1 exc cells are the target\n",
    "              \n",
    "    connection_rule=lambda *_: np.random.randint(1, 5),\n",
    "    syn_weight=4e-03,\n",
    "    delay=2.0,    \n",
    "    distance_range=[0.0, 150.0],\n",
    "    target_sections=['basal', 'apical'],\n",
    "    dynamics_params='LGN_ExcToInh.json',\n",
    "    model_template='exp2syn'\n",
    ")\n",
    "\n",
    "lgn.build()\n",
    "lgn.save(output_dir='network')\n"
   ]
  },
  {
   "cell_type": "markdown",
   "metadata": {},
   "source": [
    "Unlike the V1 cells, the LGN cells are __model_type=virtual__. In SONATA _virtual_ cells are special type of cell models that can't be recorded from, but can be used to synapse onto and stimulate other cells. There are essentially place-holders for spike trains (that will be set during the simulation).\n",
    "\n",
    "we have given the lgn special dynamics_params and model_template values, however these won't be used during the V1 simulation. There parameter values are used by FilterNet module."
   ]
  },
  {
   "cell_type": "markdown",
   "metadata": {},
   "source": [
    "# Simulation of the Network\n",
    "\n",
    "Now that we have built the SONATA network models files (or recieved the files from another source), we can go ahead and setup a simulation to run. Before we can do that there are still a few things that need to be taken care of, including setting up run-time parameters, choosing the stimulus, and deciding what to record."
   ]
  },
  {
   "cell_type": "markdown",
   "metadata": {},
   "source": [
    "### Simulation Directory Structure\n",
    "\n",
    "Almost all of the parameters required to initialize and run a full V1 simulation will be stored in a [SONATA base json configuration file](https://github.com/AllenInstitute/sonata/blob/master/docs/SONATA_DEVELOPER_GUIDE.md#tying-it-all-together---the-networkcircuit-config-file), in this case named _config.bionet.json_. If you need to (re)create the file the following command will create a template:\n",
    "\n",
    "```python\n",
    "  python -m bmtk.utils.sim_setup  \\\n",
    "   --network network              \\\n",
    "   --dt 0.1                       \\\n",
    "   --tstop 3000.0                 \\  \n",
    "   --compile-mechanisms           \\\n",
    "   --include-examples             \\\n",
    "   --config=config.bionet.json    \\\n",
    "   bionet .\n",
    "```\n",
    "\n",
    "Opening up the json with a text editor we can see the configuration is divided into different sections\n",
    "\n",
    "\n",
    "#### networks\n",
    "\n",
    "This section contains paths to the sonata network files we built above. We can use this to add or remove node populations and edges before running another simulation.\n",
    "\n",
    "#### components\n",
    "\n",
    "Contains the paths to the different external files and parameters required to run a simulation; morphologies, electricophysicological parameters (eg. NeuroML files), synaptic model parameters, etc. Files that are not directly defined as a part of the SONATA files but used by specific simulator software (eg NEURON, NEST).\n",
    "\n",
    "The required files for this tutorial has already be created. In other cases one would likely have to spend a signficant amount of time creating the optimized parameter files.\n",
    "\n",
    "\n",
    "#### run\n",
    "\n",
    "Run-time parameters and conditions, including simulation time and the time-step (all time values are in miliseconds).\n",
    "\n",
    "#### output\n",
    "\n",
    "Paths and parameters used for simulation output and logging.\n",
    "\n"
   ]
  },
  {
   "cell_type": "markdown",
   "metadata": {},
   "source": [
    "#### inputs\n",
    "\n",
    "This section can be used to specify one or more stimulus we want to use on our V1 model. Depending on the type of cell models being used, we can use spike trains, current clamps, voltage clamps, or extracellular electrodes.  \n",
    "\n",
    "For our V1 network we created a population of LGN \"virtual\" cells that synapse onto our V1 cells and drive them with spike trains. All that is missing is a \"spike-trains\" file, which can be either a CSV, NWB, or SONATA HDF5 file. BMTK includes way to create spike-train files.\n",
    "\n",
    "The following will create a series of spike trains for the LGN cells using a Poisson distrubtion of 15 Hz:"
   ]
  },
  {
   "cell_type": "code",
   "execution_count": 16,
   "metadata": {},
   "outputs": [],
   "source": [
    "from bmtk.utils.reports.spike_trains import PoissonSpikeGenerator\n",
    "\n",
    "psg = PoissonSpikeGenerator(population='LGN')\n",
    "psg.add(\n",
    "    node_ids=range(0, 100),\n",
    "    firing_rate=15.0,    # 15 Hz, we can also pass in a nonhomoegenous function/array\n",
    "    times=(0.0, 3.0)    # Firing starts at 0 s up to 3 s\n",
    ")\n",
    "\n",
    "psg.to_sonata('inputs/lgn_spikes.poisson.h5')\n",
    "psg.to_csv('inputs/lgn_spikes.poisson.csv')"
   ]
  },
  {
   "cell_type": "markdown",
   "metadata": {},
   "source": [
    "and update the \"inputs\" section \n",
    "\n",
    "```json\n",
    "    \"LGN_spikes\": {\n",
    "        \"input_type\": \"spikes\",\n",
    "        \"module\": \"h5\",\n",
    "        \"input_file\": \"./inputs/lgn_spikes.poisson.h5\",\n",
    "        \"node_set\": \"LGN\"\n",
    "    }\n",
    "```\n",
    "\n",
    "BMTK also includes a tool FilterNet that allows us to turn movies and images into firing rates using optimized filter models, which we will do in future sections.\n",
    "\n",
    "\n",
    "#### reports\n",
    "\n",
    "By default BMTK will record the V1 cell spikes into a file specified under _outputs/spikes_file_. For these types of models we can also record other parameters like membrane potential, calcium fluxuation, or extracellular electrical fields by adding to the \"reports\" section of the configuration file. \n",
    "\n",
    "For example the following can be used to record the soma membrane potential traces for our Scnn1a cells and save them in _output/membrane_potential.h5_\n",
    "\n",
    "```json\n",
    "    \"membrane_potential\": {\n",
    "      \"cells\": {\n",
    "          \"population\": \"V1\", \n",
    "          \"pop_name\": \"Scnn1a\"\n",
    "      },\n",
    "      \"variable_name\": \"v\",\n",
    "      \"module\": \"membrane_report\",\n",
    "      \"sections\": \"soma\"\n",
    "    }\n",
    "```"
   ]
  },
  {
   "cell_type": "markdown",
   "metadata": {},
   "source": [
    "### Running the simulation\n",
    "\n",
    "Now that we have our configuration files as we need, we can go ahead and run a simulation. Using a command line we can use the _run_bionet.py_ script using the command line option:\n",
    "\n",
    "```bash\n",
    " $ python run_bionet.py config.bionet.json\n",
    "```\n",
    "\n",
    "Although this toy network is small enough to run most modern computers and laptops, for larger networks we may need to run the program on a cluster with <N> cores. To do so \n",
    "\n",
    "```bash\n",
    " $ mpirun -np <N> nrniv -mpi -python run_bionet.py config.bionet.json\n",
    "```\n"
   ]
  },
  {
   "cell_type": "code",
   "execution_count": null,
   "metadata": {},
   "outputs": [],
   "source": [
    "from bmtk.simulator import bionet\n",
    "\n",
    "\n",
    "conf = bionet.Config.from_json('config.bionet.json')\n",
    "conf.build_env()\n",
    "net = bionet.BioNetwork.from_config(conf)\n",
    "sim = bionet.BioSimulator.from_config(conf, network=net)\n",
    "sim.run()"
   ]
  },
  {
   "cell_type": "markdown",
   "metadata": {},
   "source": [
    "As specified in the \"output\" and \"reports\" section, the results of the simulation will be saved in different files in the _output_ directory. The spike-trains files, _spikes.h5_, and membrane potentials, _membrane_potential.h5_ are [SONATA output data formatted file](https://github.com/AllenInstitute/sonata/blob/master/docs/SONATA_DEVELOPER_GUIDE.md#output-file-formats) and can be read and analyized by any tools that can read SONATA. \n",
    "\n",
    "Using BMTK to display the results:"
   ]
  },
  {
   "cell_type": "code",
   "execution_count": null,
   "metadata": {},
   "outputs": [],
   "source": [
    "from bmtk.analyzer.spike_trains import plot_raster\n",
    "\n",
    "# Plot the spike trains raster\n",
    "_ = plot_raster(config_file='config.bionet.json', group_by='pop_name')"
   ]
  },
  {
   "cell_type": "code",
   "execution_count": null,
   "metadata": {},
   "outputs": [],
   "source": [
    "from bmtk.analyzer.compartment import plot_traces\n",
    "\n",
    "# Plot the membrane potential trace\n",
    "_ = plot_traces(config_file='config.bionet.json', group_by='pop_name', report_name='membrane_report')"
   ]
  },
  {
   "cell_type": "markdown",
   "metadata": {},
   "source": [
    "#### Adjusting the synaptic  weights\n",
    "\n",
    "Currently the synaptic weights, eg __syn_weight__ property, are set to the same for each edge-type. There are multiple ways to make it so the synaptic weights are nonhomogenous. We can calculate and store nonhomogeneous synaptic weights inside the SONATA edges files. Or we can adjust the weights before each simulation - which is a bit less efficent but will give us greater flexiblity as we try to optimize the weights.\n",
    "\n",
    "for Exc --> Exc edges we had a BMTK special keyword \"__weight_function__='weighted_distance'\", which allows us to create user-defined functions to adjust the synaptic weights during the initialization of the simulation. BMTK will look for a function with with signature \n",
    "```python\n",
    "def <function_name>(edge_props, source, target)\n",
    "```\n",
    "\n",
    "Where _edge_props_, _source_, _target_ are dictionary-like objects that can be used to fetch edges-properties, source cell properties, and target-cell properties.\n",
    "\n",
    "For our function we want to rewrite it so the __syn_weight__ value is readjusted based on the distance.\n",
    "\n"
   ]
  },
  {
   "cell_type": "code",
   "execution_count": null,
   "metadata": {},
   "outputs": [],
   "source": [
    "from bmtk.simulator.bionet import add_weight_function\n",
    "\n",
    "def weighted_distance(edge_props, source, target):\n",
    "    # fetch base-line syn_weight value stored in edge_types properties\n",
    "    syn_weight = edge_props[\"syn_weight\"]\n",
    "    \n",
    "    # get the coords for the pre/post-synaptic cell and calculate distance\n",
    "    src_coords = np.array([source['x'], source['y'], source['z']])\n",
    "    trg_coords = np.array([target['x'], target['y'], target['z']])\n",
    "    dist = np.linalg.norm(src_coords - trg_coords)\n",
    "    \n",
    "    if dist > 50: \n",
    "        return syn_weight\n",
    "    else:\n",
    "        return -0.04*syn_weight + 3.0\n",
    "\n",
    "\n",
    "# This will register our function so BMTK can find it\n",
    "add_weight_function(weighted_distance)\n",
    "    \n",
    "    \n",
    "conf = bionet.Config.from_json('config.bionet.json')\n",
    "conf.build_env()\n",
    "net = bionet.BioNetwork.from_config(conf)\n",
    "sim = bionet.BioSimulator.from_config(conf, network=net)\n",
    "sim.run()\n"
   ]
  },
  {
   "cell_type": "code",
   "execution_count": null,
   "metadata": {},
   "outputs": [],
   "source": [
    "_ = plot_raster(config_file='config.bionet.json', group_by='pop_name')"
   ]
  },
  {
   "cell_type": "markdown",
   "metadata": {},
   "source": [
    "#### Cell depression and over-expression\n",
    "\n",
    "A usefull tool in network neuroscience is the ability to stimuluate or depress a one or more neurons in a network, either using optogenetic tools or current clamps. To simulate this effect in BMTK we can use a current clamp on a multiple neurons by adding the following to the \"inputs\" section of the configuration file:\n",
    "\n",
    "\n",
    "```json\n",
    "  \"inputs\": {\n",
    "    ...\n",
    "     \n",
    "    \"exc_perturbation\": {\n",
    "      \"input_type\": \"current_clamp\",\n",
    "      \"module\": \"IClamp\",\n",
    "      \"node_set\": {\n",
    "        \"pop_name\": \"Nr5a1\", \n",
    "        \"location\": \"L4\"\n",
    "      },\n",
    "      \"amp\": -10.0,\n",
    "      \"delay\": 0.0,\n",
    "      \"duration\": 3000.0\n",
    "    }\n",
    "  }\n",
    "```\n"
   ]
  },
  {
   "cell_type": "code",
   "execution_count": null,
   "metadata": {},
   "outputs": [],
   "source": [
    "conf = bionet.Config.from_json('config.bionet.json')\n",
    "conf.build_env()\n",
    "net = bionet.BioNetwork.from_config(conf)\n",
    "sim = bionet.BioSimulator.from_config(conf, network=net)\n",
    "sim.run()\n",
    "\n",
    "_ = plot_raster(config_file='config.bionet.json', group_by='pop_name')"
   ]
  },
  {
   "cell_type": "markdown",
   "metadata": {},
   "source": [
    "#### Recording ECP"
   ]
  },
  {
   "cell_type": "code",
   "execution_count": null,
   "metadata": {},
   "outputs": [],
   "source": []
  },
  {
   "cell_type": "markdown",
   "metadata": {},
   "source": [
    "## Generating realistic stimulus\n",
    "\n",
    "To drive our network model we have been using external \"LGN\" virtual cells that fire at a constant rate. This can be useful for testing some fundamental properties of the network. However to better optimize our model it will be useful to simulate it against more realistic stimulus.\n",
    "\n",
    "FilterNet is a component of the BMTK that allows us to project an image or movie onto one or more neurons to produce spike trains. Using FilterNet with the \"LGN\" network we can create spike-train files using various types of visual stimulus, which can then be used as input for simulating the V1 model.\n",
    "\n",
    "[Image of workflow with FilterNet and BioNet]\n"
   ]
  },
  {
   "cell_type": "markdown",
   "metadata": {},
   "source": [
    "### FilterNet Directory Structure\n",
    "\n",
    "FilterNet simulation directory is structured the same as BioNet, using a json configuration file to specify the paths and parameters required to run a full simulation. The configuration and model files are already set-up, but when building a simulation from scratch one can create directory template using the command line tool:\n",
    "\n",
    "```bash\n",
    " $ python -m bmtk.utils.sim_setup    \\\n",
    "   --network network                 \\\n",
    "   --tstop 3000.0                    \\  \n",
    "   --include-examples                \\\n",
    "   --config=config.filternet.json    \\\n",
    "   filternet .\n",
    "```\n",
    "\n",
    "Controlling the FilterNet simulation is done through *config.filternet.json*, which has the same format used by _config.bionet.json_, except with some noticeable changes.\n",
    "\n",
    "##### \"networks\"\n",
    "\n",
    "We only want to run FilterNet against the LGN nodes (and FilterNet currently doesn't support recurrent networks), which is reflected by the \"network\" sections in the configuration:\n",
    "\n",
    "```json\n",
    "  \"networks\": {\n",
    "    \"nodes\": [\n",
    "      {\n",
    "        \"nodes_file\": \"$NETWORK_DIR/LGN_nodes.h5\",\n",
    "        \"node_types_file\": \"$NETWORK_DIR/LGN_node_types.csv\"\n",
    "      }\n",
    "    ]\n",
    "  }\n",
    "```\n",
    "\n",
    "#### \"output\"\n",
    "Like in BioNet, FilterNet will produce a SONATA formated spike-trains file, but for our \"LGN\" nodes only. The location of the output is controlled by the \"output\" section of the configuration file:\n",
    "\n",
    "``` json\n",
    "  \"output\": { \n",
    "    \"log_file\": \"log.txt\",\n",
    "    \"output_dir\": \"./lgn_results\",\n",
    "    \"spikes_file\": \"lgn_spikes.flash.h5\"\n",
    "  },\n",
    "```"
   ]
  },
  {
   "cell_type": "markdown",
   "metadata": {},
   "source": [
    "#### \"inputs\"\n",
    "\n",
    "The \"inputs\" section of the configuration file determines which type of stimulus we want to project onto LGN cells. Although we can use any user-created movie (described below), FilterNet also comes with options for easily creating special stimulus types that are common in experiments testing the visual system.\n",
    "\n",
    "One of the simplest types of stimuli is a full-field flash, a temporary bright (or dark) flash on the receptive field, which can be used to test simple ON/OFF cells found in the LGN. The following will create a bright flash between 1000 to 2000 ms seconds\n",
    "\n",
    "```json\n",
    "  \"inputs\": {\n",
    "    \"full_field_flash\": {\n",
    "        \"input_type\": \"movie\",\n",
    "        \"module\": \"full_field_flash\",\n",
    "        \"row_size\": 120,\n",
    "        \"col_size\": 240,\n",
    "        \"t_on\": 1000.0,\n",
    "        \"t_off\": 2000.0,\n",
    "        \"max_intensity\": -20.0\n",
    "    } \n",
    "  }\n",
    "```"
   ]
  },
  {
   "cell_type": "markdown",
   "metadata": {},
   "source": [
    "### Running the Simulation\n",
    "\n",
    "Now that we have our configuration file setup we can run filternet. In the command line this can be done by:\n",
    "    \n",
    "```bash\n",
    " $ python run_filternet.py config.filernet.json\n",
    "```\n",
    "\n",
    "For every large networks that would require multiple processors to complete in a reasonable amount of time we can use the command\n",
    "```bash\n",
    " $ mpirun -n <N> python run_filternet.py config.filernet.json\n",
    "```\n",
    "\n",
    "Or through the following code:\n"
   ]
  },
  {
   "cell_type": "code",
   "execution_count": null,
   "metadata": {},
   "outputs": [],
   "source": [
    "from bmtk.simulator import filternet\n",
    "\n",
    "config = filternet.Config.from_json('config.filernet.json')\n",
    "config.build_env()\n",
    "net = filternet.FilterNetwork.from_config(config)\n",
    "sim = filternet.FilterSimulator.from_config(config, net)\n",
    "sim.run()"
   ]
  },
  {
   "cell_type": "markdown",
   "metadata": {},
   "source": [
    "Once completed it will create the spikes-file lgn_results/lgn_spikes.flash.h5. This file follows the same format as the spike-trains file generated by BioNet. To see how our LGN ON/OFF cells responded to the full-field flash:"
   ]
  },
  {
   "cell_type": "code",
   "execution_count": 20,
   "metadata": {},
   "outputs": [
    {
     "data": {
      "image/png": "[encoded data removed]",
      "text/plain": [
       "<Figure size 432x288 with 2 Axes>"
      ]
     },
     "metadata": {
      "needs_background": "light"
     },
     "output_type": "display_data"
    }
   ],
   "source": [
    "from bmtk.analyzer.spike_trains import plot_raster\n",
    "\n",
    "_ = plot_raster(config_file='config.filternet.json', group_by='model_template')"
   ]
  },
  {
   "cell_type": "markdown",
   "metadata": {},
   "source": [
    "#### Using the results for the V1 model\n",
    "\n",
    "To use the results to test our V1 model with more realistic stimulus, we just need to open _config.bionet.json_ and edit the \"inputs\" section so the __input_file__ is changed from _./inputs/lgn_spikes.h5_ to _./ lgn_results/lgn_spikes.flash.h5_\n",
    "\n",
    "```json\n",
    "    \"LGN_spikes\": {\n",
    "        \"input_type\": \"spikes\",\n",
    "        \"module\": \"h5\",\n",
    "        \"input_file\": \"./lgn_results/lgn_spikes.flash.h5\",\n",
    "        \"node_set\": \"LGN\"\n",
    "    }\n",
    "```\n",
    "\n",
    "Then just rereun the BioNet code as above."
   ]
  },
  {
   "cell_type": "markdown",
   "metadata": {},
   "source": [
    "### More Stimulus Types\n",
    "\n",
    "Besides Full-Field Flashes, FilterNet also can generate other types of pre-set visual stimuli. However for more advanced stimuli one will have to create their own movies.\n",
    "\n",
    "To do so first you will need to create a [numpy npy or npz file](https://numpy.org/doc/stable/reference/generated/numpy.save.html) - eg a 3-dimensional matrix consisting of the frames x rows x columns of each pixel. FilterNet will gray-scale the images automatically. Once the movie has been saved, open up the FilerNet json configuration file and modify the \"inputs\" section accordingly (make sure frame_rate is correct).\n",
    "\n",
    "```json\n",
    "  \"inputs\": {\n",
    "    \"full_field_flash\": {\n",
    "      \"input_type\": \"movie\",\n",
    "      \"module\": \"movie\",\n",
    "      \"data_file\": \"/path/to/my/movie.npy\",\n",
    "      \"frame_rate\": 30.0\n",
    "    } \n",
    "  }\n",
    "```"
   ]
  },
  {
   "cell_type": "code",
   "execution_count": null,
   "metadata": {},
   "outputs": [],
   "source": []
  }
 ],
 "metadata": {
  "kernelspec": {
   "display_name": "Python 3",
   "language": "python",
   "name": "python3"
  },
  "language_info": {
   "codemirror_mode": {
    "name": "ipython",
    "version": 3
   },
   "file_extension": ".py",
   "mimetype": "text/x-python",
   "name": "python",
   "nbconvert_exporter": "python",
   "pygments_lexer": "ipython3",
   "version": "3.6.10"
  }
 },
 "nbformat": 4,
 "nbformat_minor": 4
}
